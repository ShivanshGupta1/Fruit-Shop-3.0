{
  "nbformat": 4,
  "nbformat_minor": 0,
  "metadata": {
    "colab": {
      "name": "Fruit Shop 3.0 (GitHub).ipynb",
      "provenance": [],
      "authorship_tag": "ABX9TyPafMX15HMDynyhg/iqgLAR",
      "include_colab_link": true
    },
    "kernelspec": {
      "name": "python3",
      "display_name": "Python 3"
    }
  },
  "cells": [
    {
      "cell_type": "markdown",
      "metadata": {
        "id": "view-in-github",
        "colab_type": "text"
      },
      "source": [
        "<a href=\"https://colab.research.google.com/github/ShivanshGupta1/Fruit-Shop-3.0/blob/main/Fruit_Shop_3_0_(GitHub).ipynb\" target=\"_parent\"><img src=\"https://colab.research.google.com/assets/colab-badge.svg\" alt=\"Open In Colab\"/></a>"
      ]
    },
    {
      "cell_type": "code",
      "metadata": {
        "id": "f7zRcjr3vtg4"
      },
      "source": [
        "#My Fruit Shop\n",
        "from collections import Counter\n",
        "price = Counter(#This is a dictionary with all the prices of the items\n",
        "    banana=4, \n",
        "    apple=2,\n",
        "    orange=1.5,\n",
        "    pear=3\n",
        ")\n",
        "stock = Counter(#This is a dictionary with all the stocks\n",
        "   banana= 6,\n",
        "   apple=0,\n",
        "   orange=32,\n",
        "   pear=15\n",
        ")\n",
        "userInput = 0#This variable will be later used for the input of the user\n",
        "totalPrice = 0#This variable will later have the total price added\n",
        "for i in stock:#This is a for loop that runs for every element in stock...\n",
        "  userInput = int(input(i))#It takes the user input for that element\n",
        "  if stock[i]>0:#It checks if it is in stock\n",
        "    if stock[i]>userInput:#This check if there is enough for the user\n",
        "      totalPrice = totalPrice + userInput*price[i]#This adds the price\n",
        "      stock[i]=stock[i]-userInput#This subtract to get the remaining stock\n",
        "    else:\n",
        "      print(\"We do not have that much!\")#This tells we do not have eneough for the user\n",
        "  else:\n",
        "    print(\"Out of stock!\")#This tells it is out of stock\n",
        "print(\"The total cost should be\",totalPrice)#This prints the total price\n",
        "print(\"The items left in stock are\",stock) #This prints the items left\n",
        "print(\"The prices are reasonable, because they are\",price) #This prints the price of the items\n",
        "print(\"Come back again to Shivansh's shop!\")#This is a goodbye message"
      ],
      "execution_count": null,
      "outputs": []
    }
  ]
}